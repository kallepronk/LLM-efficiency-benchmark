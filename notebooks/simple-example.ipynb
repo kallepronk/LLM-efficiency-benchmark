{
 "cells": [
  {
   "cell_type": "markdown",
   "id": "f627be915e30ed39",
   "metadata": {},
   "source": [
    "# Simple benchmark example"
   ]
  },
  {
   "cell_type": "code",
   "execution_count": 3,
   "id": "bb1a755039b8d5f0",
   "metadata": {
    "ExecuteTime": {
     "end_time": "2024-12-03T16:12:33.197428Z",
     "start_time": "2024-12-03T16:12:27.247969Z"
    }
   },
   "outputs": [
    {
     "name": "stderr",
     "output_type": "stream",
     "text": [
      "/home/delta/miniforge3/envs/llm-efficiency-benchmark/lib/python3.11/site-packages/tqdm/auto.py:21: TqdmWarning: IProgress not found. Please update jupyter and ipywidgets. See https://ipywidgets.readthedocs.io/en/stable/user_install.html\n",
      "  from .autonotebook import tqdm as notebook_tqdm\n"
     ]
    }
   ],
   "source": [
    "import sys, os\n",
    "module_path = os.path.abspath(os.getcwd()+'/..')\n",
    "\n",
    "sys.path.append(module_path)\n",
    "from benchmark.runs.passes import PassesRun\n",
    "from benchmark.dataset import Dataset\n",
    "from benchmark.main import Benchmark\n",
    "from benchmark.runs.pre_encoded import PreEncodedRun\n",
    "from benchmark.runs.warmup import Warmup\n",
    "from benchmark.runs.run import Run\n",
    "\n"
   ]
  },
  {
   "cell_type": "code",
   "execution_count": 4,
   "id": "145d75569286e0a",
   "metadata": {
    "ExecuteTime": {
     "end_time": "2024-12-03T19:19:14.637087Z",
     "start_time": "2024-12-03T19:06:55.949823Z"
    }
   },
   "outputs": [
    {
     "name": "stderr",
     "output_type": "stream",
     "text": [
      "The `GPTNeoXSdpaAttention` class is deprecated in favor of simply modifying the `config._attn_implementation`attribute of the `GPTNeoXAttention` class! It will be removed in v4.48\n",
      "Total progress:   0%|          | 0/11 [00:00<?, ?it/s]The attention mask is not set and cannot be inferred from input because pad token is same as eos token. As a consequence, you may observe unexpected behavior. Please pass your input's `attention_mask` to obtain reliable results.\n",
      "100%|██████████| 100/100 [00:29<00:00,  3.38it/s]\n",
      "Total progress:   9%|▉         | 1/11 [00:29<04:55, 29.59s/it][codecarbon INFO @ 13:23:18] offline tracker init\n",
      "[codecarbon WARNING @ 13:23:18] Multiple instances of codecarbon are allowed to run at the same time.\n",
      "[codecarbon WARNING @ 13:23:18] No CPU tracking mode found. Falling back on CPU constant mode. \n",
      " Linux OS detected: Please ensure RAPL files exist at \\sys\\class\\powercap\\intel-rapl to measure CPU\n",
      "\n",
      "[codecarbon WARNING @ 13:23:19] We saw that you have a 13th Gen Intel(R) Core(TM) i9-13900K but we don't know it. Please contact us.\n",
      "passes - passes: 1: 100%|██████████| 1/1 [00:00<00:00,  2.15it/s]\n",
      "Total progress:  18%|█▊        | 2/11 [00:31<01:59, 13.22s/it][codecarbon WARNING @ 13:23:20] Multiple instances of codecarbon are allowed to run at the same time.\n",
      "[codecarbon WARNING @ 13:23:20] No CPU tracking mode found. Falling back on CPU constant mode. \n",
      " Linux OS detected: Please ensure RAPL files exist at \\sys\\class\\powercap\\intel-rapl to measure CPU\n",
      "\n",
      "[codecarbon WARNING @ 13:23:21] We saw that you have a 13th Gen Intel(R) Core(TM) i9-13900K but we don't know it. Please contact us.\n",
      "passes - passes: 5: 100%|██████████| 5/5 [00:02<00:00,  1.72it/s]\n",
      "Total progress:  27%|██▋       | 3/11 [00:35<01:12,  9.06s/it][codecarbon WARNING @ 13:23:24] Multiple instances of codecarbon are allowed to run at the same time.\n",
      "[codecarbon WARNING @ 13:23:24] No CPU tracking mode found. Falling back on CPU constant mode. \n",
      " Linux OS detected: Please ensure RAPL files exist at \\sys\\class\\powercap\\intel-rapl to measure CPU\n",
      "\n",
      "[codecarbon WARNING @ 13:23:25] We saw that you have a 13th Gen Intel(R) Core(TM) i9-13900K but we don't know it. Please contact us.\n",
      "passes - passes: 10: 100%|██████████| 10/10 [00:05<00:00,  1.78it/s]\n",
      "Total progress:  36%|███▋      | 4/11 [00:42<00:57,  8.18s/it][codecarbon WARNING @ 13:23:31] Multiple instances of codecarbon are allowed to run at the same time.\n",
      "[codecarbon WARNING @ 13:23:31] No CPU tracking mode found. Falling back on CPU constant mode. \n",
      " Linux OS detected: Please ensure RAPL files exist at \\sys\\class\\powercap\\intel-rapl to measure CPU\n",
      "\n",
      "[codecarbon WARNING @ 13:23:32] We saw that you have a 13th Gen Intel(R) Core(TM) i9-13900K but we don't know it. Please contact us.\n",
      "passes - passes: 20: 100%|██████████| 20/20 [00:11<00:00,  1.70it/s]\n",
      "Total progress:  45%|████▌     | 5/11 [00:55<00:59,  9.91s/it][codecarbon WARNING @ 13:23:44] Multiple instances of codecarbon are allowed to run at the same time.\n",
      "[codecarbon WARNING @ 13:23:44] No CPU tracking mode found. Falling back on CPU constant mode. \n",
      " Linux OS detected: Please ensure RAPL files exist at \\sys\\class\\powercap\\intel-rapl to measure CPU\n",
      "\n",
      "[codecarbon WARNING @ 13:23:45] We saw that you have a 13th Gen Intel(R) Core(TM) i9-13900K but we don't know it. Please contact us.\n",
      "passes - passes: 40: 100%|██████████| 40/40 [00:23<00:00,  1.71it/s]\n",
      "Total progress:  55%|█████▍    | 6/11 [01:19<01:14, 14.90s/it][codecarbon WARNING @ 13:24:08] Multiple instances of codecarbon are allowed to run at the same time.\n",
      "[codecarbon WARNING @ 13:24:08] No CPU tracking mode found. Falling back on CPU constant mode. \n",
      " Linux OS detected: Please ensure RAPL files exist at \\sys\\class\\powercap\\intel-rapl to measure CPU\n",
      "\n",
      "[codecarbon WARNING @ 13:24:09] We saw that you have a 13th Gen Intel(R) Core(TM) i9-13900K but we don't know it. Please contact us.\n",
      "passes - passes: 100: 100%|██████████| 100/100 [00:54<00:00,  1.85it/s]\n",
      "Total progress:  64%|██████▎   | 7/11 [02:15<01:52, 28.11s/it][codecarbon WARNING @ 13:25:03] Multiple instances of codecarbon are allowed to run at the same time.\n",
      "[codecarbon WARNING @ 13:25:03] No CPU tracking mode found. Falling back on CPU constant mode. \n",
      " Linux OS detected: Please ensure RAPL files exist at \\sys\\class\\powercap\\intel-rapl to measure CPU\n",
      "\n",
      "[codecarbon WARNING @ 13:25:05] We saw that you have a 13th Gen Intel(R) Core(TM) i9-13900K but we don't know it. Please contact us.\n",
      "passes - passes: 200: 100%|██████████| 200/200 [01:47<00:00,  1.86it/s]\n",
      "Total progress:  73%|███████▎  | 8/11 [04:04<02:41, 53.86s/it][codecarbon WARNING @ 13:26:52] Multiple instances of codecarbon are allowed to run at the same time.\n",
      "[codecarbon WARNING @ 13:26:52] No CPU tracking mode found. Falling back on CPU constant mode. \n",
      " Linux OS detected: Please ensure RAPL files exist at \\sys\\class\\powercap\\intel-rapl to measure CPU\n",
      "\n",
      "[codecarbon WARNING @ 13:26:54] We saw that you have a 13th Gen Intel(R) Core(TM) i9-13900K but we don't know it. Please contact us.\n",
      "passes - passes: 500: 100%|██████████| 500/500 [04:39<00:00,  1.79it/s]\n",
      "Total progress:  82%|████████▏ | 9/11 [08:44<04:09, 124.64s/it][codecarbon WARNING @ 13:31:33] Multiple instances of codecarbon are allowed to run at the same time.\n",
      "[codecarbon WARNING @ 13:31:33] No CPU tracking mode found. Falling back on CPU constant mode. \n",
      " Linux OS detected: Please ensure RAPL files exist at \\sys\\class\\powercap\\intel-rapl to measure CPU\n",
      "\n",
      "[codecarbon WARNING @ 13:31:34] We saw that you have a 13th Gen Intel(R) Core(TM) i9-13900K but we don't know it. Please contact us.\n",
      "passes - passes: 1000: 100%|██████████| 1000/1000 [09:11<00:00,  1.81it/s]\n",
      "Total progress:  91%|█████████ | 10/11 [17:57<04:16, 256.76s/it][codecarbon WARNING @ 13:40:45] Multiple instances of codecarbon are allowed to run at the same time.\n",
      "[codecarbon WARNING @ 13:40:45] No CPU tracking mode found. Falling back on CPU constant mode. \n",
      " Linux OS detected: Please ensure RAPL files exist at \\sys\\class\\powercap\\intel-rapl to measure CPU\n",
      "\n",
      "[codecarbon WARNING @ 13:40:47] We saw that you have a 13th Gen Intel(R) Core(TM) i9-13900K but we don't know it. Please contact us.\n",
      "passes - passes: 2000: 100%|██████████| 2000/2000 [18:19<00:00,  1.82it/s]\n",
      "Total progress: 100%|██████████| 11/11 [36:17<00:00, 198.00s/it]"
     ]
    },
    {
     "name": "stdout",
     "output_type": "stream",
     "text": [
      "{'benchmark_name': 'with_encoding-20241217-132248', 'timestamp': '20241217-135906', 'cpu_count': 32, 'cpu_model': '13th Gen Intel(R) Core(TM) i9-13900K', 'gpu_count': 2, 'gpu_model': '2 x NVIDIA GeForce RTX 3090', 'os': 'Linux-5.15.167.4-microsoft-standard-WSL2-x86_64-with-glibc2.39', 'country_name': 'Netherlands', 'country_iso_code': 'NLD', 'region': None, 'python_version': '3.11.0', 'codecarbon_version': '2.8.1', 'longtitude': None, 'latitude': None, 'ram_total_size': 62.69314956665039, 'cpu_power': 42.5, 'gpu_power': 34.26853555163637, 'ram_power': 23.509931087493896, 'total_duration': 2140.5059969819995, 'total_cpu_energy': 0.02526982005795353, 'total_gpu_energy': 0.02343872152874, 'total_ram_energy': 0.013974188017074247, 'runs': [{'name': 'passes', 'passes': 1, 'model': 'EleutherAI/pythia-70m', 'dataset': 'Rowan/hellaswag', 'timestamp': '2024-12-17T13:23:20', 'duration': 0.4596478680000473, 'cpu_energy': 5.426218135418203e-06, 'gpu_energy': 4.311392338009201e-06, 'ram_energy': 2.9554292574664223e-06}, {'name': 'passes', 'passes': 5, 'model': 'EleutherAI/pythia-70m', 'dataset': 'Rowan/hellaswag', 'timestamp': '2024-12-17T13:23:24', 'duration': 2.96230897800001, 'cpu_energy': 3.4971405925000774e-05, 'gpu_energy': 3.208808122601159e-05, 'ram_energy': 1.9320207153512383e-05}, {'name': 'passes', 'passes': 10, 'model': 'EleutherAI/pythia-70m', 'dataset': 'Rowan/hellaswag', 'timestamp': '2024-12-17T13:23:31', 'duration': 5.616673082000034, 'cpu_energy': 6.630766738958396e-05, 'gpu_energy': 5.924838073199934e-05, 'ram_energy': 3.665918457809996e-05}, {'name': 'passes', 'passes': 20, 'model': 'EleutherAI/pythia-70m', 'dataset': 'Rowan/hellaswag', 'timestamp': '2024-12-17T13:23:44', 'duration': 11.749363425999945, 'cpu_energy': 0.00013870748053888696, 'gpu_energy': 0.00012313648739799982, 'ram_energy': 7.666004759716514e-05}, {'name': 'passes', 'passes': 40, 'model': 'EleutherAI/pythia-70m', 'dataset': 'Rowan/hellaswag', 'timestamp': '2024-12-17T13:24:08', 'duration': 23.441619000999935, 'cpu_energy': 0.00027674090105486124, 'gpu_energy': 0.00024713019770399025, 'ram_energy': 0.0001530440086500054}, {'name': 'passes', 'passes': 100, 'model': 'EleutherAI/pythia-70m', 'dataset': 'Rowan/hellaswag', 'timestamp': '2024-12-17T13:25:03', 'duration': 54.185479862999955, 'cpu_energy': 0.0006396887010305536, 'gpu_energy': 0.0005731551807459934, 'ram_energy': 0.0003537675065583555}, {'name': 'passes', 'passes': 200, 'model': 'EleutherAI/pythia-70m', 'dataset': 'Rowan/hellaswag', 'timestamp': '2024-12-17T13:26:52', 'duration': 108.00713712700008, 'cpu_energy': 0.0012750707385937518, 'gpu_energy': 0.0012397118251019981, 'ram_energy': 0.0007050975210678875}, {'name': 'passes', 'passes': 500, 'model': 'EleutherAI/pythia-70m', 'dataset': 'Rowan/hellaswag', 'timestamp': '2024-12-17T13:31:33', 'duration': 279.5856757869999, 'cpu_energy': 0.0033006606600951456, 'gpu_energy': 0.003198742836769991, 'ram_energy': 0.0018252945888478469}, {'name': 'passes', 'passes': 1000, 'model': 'EleutherAI/pythia-70m', 'dataset': 'Rowan/hellaswag', 'timestamp': '2024-12-17T13:40:45', 'duration': 552.441659248, 'cpu_energy': 0.006521873022715994, 'gpu_energy': 0.005925850851788005, 'ram_energy': 0.003606515466028766}, {'name': 'passes', 'passes': 2000, 'model': 'EleutherAI/pythia-70m', 'dataset': 'Rowan/hellaswag', 'timestamp': '2024-12-17T13:59:06', 'duration': 1102.0564326019999, 'cpu_energy': 0.013010373262474331, 'gpu_energy': 0.012035346294936002, 'ram_energy': 0.007194874057335141}]}\n"
     ]
    },
    {
     "name": "stderr",
     "output_type": "stream",
     "text": [
      "\n"
     ]
    }
   ],
   "source": [
    "\n",
    "# With encoding\n",
    "model: str = \"EleutherAI/pythia-70m\"\n",
    "dataset: Dataset = Dataset(name=\"Rowan/hellaswag\", split=\"train\", column=\"ctx\")\n",
    "\n",
    "# Configure runs\n",
    "warmup : Run = Warmup(model=model, dataset=dataset, passes=100)\n",
    "run1: Run = PassesRun(model=model, dataset=dataset, passes=1)\n",
    "run5: Run = PassesRun(model=model, dataset=dataset, passes=5)\n",
    "run10: Run = PassesRun(model=model, dataset=dataset, passes=10)\n",
    "run20: Run = PassesRun(model=model, dataset=dataset, passes=20)\n",
    "run40: Run = PassesRun(model=model, dataset=dataset, passes=40)\n",
    "run100: Run = PassesRun(model=model, dataset=dataset, passes=100)\n",
    "run200: Run = PassesRun(model=model, dataset=dataset, passes=200)\n",
    "run500: Run = PassesRun(model=model, dataset=dataset, passes=500)\n",
    "run1000: Run = PassesRun(model=model, dataset=dataset, passes=1000)\n",
    "run2000: Run = PassesRun(model=model, dataset=dataset, passes=2000)\n",
    "\n",
    "\n",
    "# Configure classes\n",
    "benchmark = Benchmark(name= \"with_encoding\", runs=[warmup, run1, run5, run10, run20, run40, run100, run200, run500, run1000, run2000])\n",
    "\n",
    "benchmark.run()\n",
    "\n",
    "print(benchmark.collect_results())"
   ]
  },
  {
   "cell_type": "code",
   "execution_count": null,
   "id": "bfc75db69d1538de",
   "metadata": {},
   "outputs": [],
   "source": [
    "# Without encoding\n",
    "model: str = \"EleutherAI/pythia-70m\"\n",
    "dataset: Dataset = Dataset(name=\"Rowan/hellaswag\", split=\"train\", column=\"ctx\")\n",
    "\n",
    "# Configure runs\n",
    "# warmup: Run = Warmup(model=model, dataset=dataset, passes=1)\n",
    "\n",
    "warmup: Run = Warmup(model=model, dataset=dataset, passes=100)\n",
    "run1: Run = PreEncodedRun(model=model, dataset=dataset, passes=1)\n",
    "run5: Run = PreEncodedRun(model=model, dataset=dataset, passes=5)\n",
    "run10: Run = PreEncodedRun(model=model, dataset=dataset, passes=10)\n",
    "run20: Run = PreEncodedRun(model=model, dataset=dataset, passes=20)\n",
    "run40: Run = PreEncodedRun(model=model, dataset=dataset, passes=40)\n",
    "run100: Run = PreEncodedRun(model=model, dataset=dataset, passes=100)\n",
    "run200: Run = PreEncodedRun(model=model, dataset=dataset, passes=200)\n",
    "run500: Run = PreEncodedRun(model=model, dataset=dataset, passes=500)\n",
    "\n",
    "# Configure classes\n",
    "benchmark = Benchmark([warmup, run1, run5, run10, run20, run40, run100, run200, run500])\n",
    "\n",
    "benchmark.run()"
   ]
  },
  {
   "cell_type": "code",
   "execution_count": 12,
   "id": "6a16de0fd2f8e0da",
   "metadata": {
    "ExecuteTime": {
     "end_time": "2024-12-03T20:02:50.512473Z",
     "start_time": "2024-12-03T20:02:50.404333Z"
    }
   },
   "outputs": [
    {
     "ename": "ValueError",
     "evalue": "shape mismatch: objects cannot be broadcast to a single shape.  Mismatch is between arg 0 with shape (10,) and arg 1 with shape (9,).",
     "output_type": "error",
     "traceback": [
      "\u001b[0;31m---------------------------------------------------------------------------\u001b[0m",
      "\u001b[0;31mValueError\u001b[0m                                Traceback (most recent call last)",
      "Cell \u001b[0;32mIn[12], line 51\u001b[0m\n\u001b[1;32m     49\u001b[0m x_labels \u001b[38;5;241m=\u001b[39m [\u001b[38;5;124m\"\u001b[39m\u001b[38;5;124m1\u001b[39m\u001b[38;5;124m\"\u001b[39m, \u001b[38;5;124m\"\u001b[39m\u001b[38;5;124m5\u001b[39m\u001b[38;5;124m\"\u001b[39m, \u001b[38;5;124m\"\u001b[39m\u001b[38;5;124m10\u001b[39m\u001b[38;5;124m\"\u001b[39m, \u001b[38;5;124m\"\u001b[39m\u001b[38;5;124m20\u001b[39m\u001b[38;5;124m\"\u001b[39m, \u001b[38;5;124m\"\u001b[39m\u001b[38;5;124m40\u001b[39m\u001b[38;5;124m\"\u001b[39m, \u001b[38;5;124m\"\u001b[39m\u001b[38;5;124m100\u001b[39m\u001b[38;5;124m\"\u001b[39m, \u001b[38;5;124m\"\u001b[39m\u001b[38;5;124m200\u001b[39m\u001b[38;5;124m\"\u001b[39m, \u001b[38;5;124m\"\u001b[39m\u001b[38;5;124m500\u001b[39m\u001b[38;5;124m\"\u001b[39m, \u001b[38;5;124m\"\u001b[39m\u001b[38;5;124m1000\u001b[39m\u001b[38;5;124m\"\u001b[39m]\n\u001b[1;32m     50\u001b[0m plt\u001b[38;5;241m.\u001b[39msubplot(\u001b[38;5;241m1\u001b[39m, \u001b[38;5;241m2\u001b[39m, \u001b[38;5;241m1\u001b[39m)\n\u001b[0;32m---> 51\u001b[0m \u001b[43mplt\u001b[49m\u001b[38;5;241;43m.\u001b[39;49m\u001b[43mbar\u001b[49m\u001b[43m(\u001b[49m\u001b[43mx\u001b[49m\u001b[38;5;241;43m-\u001b[39;49m\u001b[38;5;241;43m0.2\u001b[39;49m\u001b[43m,\u001b[49m\u001b[43m \u001b[49m\u001b[43mgpu\u001b[49m\u001b[43m,\u001b[49m\u001b[43m \u001b[49m\u001b[43mcolor\u001b[49m\u001b[38;5;241;43m=\u001b[39;49m\u001b[38;5;124;43m\"\u001b[39;49m\u001b[38;5;124;43mg\u001b[39;49m\u001b[38;5;124;43m\"\u001b[39;49m\u001b[43m,\u001b[49m\u001b[43m \u001b[49m\u001b[43malign\u001b[49m\u001b[38;5;241;43m=\u001b[39;49m\u001b[38;5;124;43m\"\u001b[39;49m\u001b[38;5;124;43mcenter\u001b[39;49m\u001b[38;5;124;43m\"\u001b[39;49m\u001b[43m,\u001b[49m\u001b[43m \u001b[49m\u001b[43mwidth\u001b[49m\u001b[38;5;241;43m=\u001b[39;49m\u001b[38;5;241;43m0.2\u001b[39;49m\u001b[43m)\u001b[49m\n\u001b[1;32m     52\u001b[0m plt\u001b[38;5;241m.\u001b[39mbar(x\u001b[38;5;241m+\u001b[39m\u001b[38;5;241m0.2\u001b[39m, ram, color\u001b[38;5;241m=\u001b[39m\u001b[38;5;124m\"\u001b[39m\u001b[38;5;124mr\u001b[39m\u001b[38;5;124m\"\u001b[39m, align\u001b[38;5;241m=\u001b[39m\u001b[38;5;124m\"\u001b[39m\u001b[38;5;124mcenter\u001b[39m\u001b[38;5;124m\"\u001b[39m, width\u001b[38;5;241m=\u001b[39m\u001b[38;5;241m0.2\u001b[39m)\n\u001b[1;32m     53\u001b[0m plt\u001b[38;5;241m.\u001b[39mbar(x, cpu, color\u001b[38;5;241m=\u001b[39m\u001b[38;5;124m\"\u001b[39m\u001b[38;5;124mb\u001b[39m\u001b[38;5;124m\"\u001b[39m, align\u001b[38;5;241m=\u001b[39m\u001b[38;5;124m\"\u001b[39m\u001b[38;5;124mcenter\u001b[39m\u001b[38;5;124m\"\u001b[39m, width\u001b[38;5;241m=\u001b[39m\u001b[38;5;241m0.2\u001b[39m)\n",
      "File \u001b[0;32m~/miniforge3/envs/llm-efficiency-benchmark/lib/python3.11/site-packages/matplotlib/pyplot.py:2981\u001b[0m, in \u001b[0;36mbar\u001b[0;34m(x, height, width, bottom, align, data, **kwargs)\u001b[0m\n\u001b[1;32m   2970\u001b[0m \u001b[38;5;129m@_copy_docstring_and_deprecators\u001b[39m(Axes\u001b[38;5;241m.\u001b[39mbar)\n\u001b[1;32m   2971\u001b[0m \u001b[38;5;28;01mdef\u001b[39;00m \u001b[38;5;21mbar\u001b[39m(\n\u001b[1;32m   2972\u001b[0m     x: \u001b[38;5;28mfloat\u001b[39m \u001b[38;5;241m|\u001b[39m ArrayLike,\n\u001b[0;32m   (...)\u001b[0m\n\u001b[1;32m   2979\u001b[0m     \u001b[38;5;241m*\u001b[39m\u001b[38;5;241m*\u001b[39mkwargs,\n\u001b[1;32m   2980\u001b[0m ) \u001b[38;5;241m-\u001b[39m\u001b[38;5;241m>\u001b[39m BarContainer:\n\u001b[0;32m-> 2981\u001b[0m     \u001b[38;5;28;01mreturn\u001b[39;00m \u001b[43mgca\u001b[49m\u001b[43m(\u001b[49m\u001b[43m)\u001b[49m\u001b[38;5;241;43m.\u001b[39;49m\u001b[43mbar\u001b[49m\u001b[43m(\u001b[49m\n\u001b[1;32m   2982\u001b[0m \u001b[43m        \u001b[49m\u001b[43mx\u001b[49m\u001b[43m,\u001b[49m\n\u001b[1;32m   2983\u001b[0m \u001b[43m        \u001b[49m\u001b[43mheight\u001b[49m\u001b[43m,\u001b[49m\n\u001b[1;32m   2984\u001b[0m \u001b[43m        \u001b[49m\u001b[43mwidth\u001b[49m\u001b[38;5;241;43m=\u001b[39;49m\u001b[43mwidth\u001b[49m\u001b[43m,\u001b[49m\n\u001b[1;32m   2985\u001b[0m \u001b[43m        \u001b[49m\u001b[43mbottom\u001b[49m\u001b[38;5;241;43m=\u001b[39;49m\u001b[43mbottom\u001b[49m\u001b[43m,\u001b[49m\n\u001b[1;32m   2986\u001b[0m \u001b[43m        \u001b[49m\u001b[43malign\u001b[49m\u001b[38;5;241;43m=\u001b[39;49m\u001b[43malign\u001b[49m\u001b[43m,\u001b[49m\n\u001b[1;32m   2987\u001b[0m \u001b[43m        \u001b[49m\u001b[38;5;241;43m*\u001b[39;49m\u001b[38;5;241;43m*\u001b[39;49m\u001b[43m(\u001b[49m\u001b[43m{\u001b[49m\u001b[38;5;124;43m\"\u001b[39;49m\u001b[38;5;124;43mdata\u001b[39;49m\u001b[38;5;124;43m\"\u001b[39;49m\u001b[43m:\u001b[49m\u001b[43m \u001b[49m\u001b[43mdata\u001b[49m\u001b[43m}\u001b[49m\u001b[43m \u001b[49m\u001b[38;5;28;43;01mif\u001b[39;49;00m\u001b[43m \u001b[49m\u001b[43mdata\u001b[49m\u001b[43m \u001b[49m\u001b[38;5;129;43;01mis\u001b[39;49;00m\u001b[43m \u001b[49m\u001b[38;5;129;43;01mnot\u001b[39;49;00m\u001b[43m \u001b[49m\u001b[38;5;28;43;01mNone\u001b[39;49;00m\u001b[43m \u001b[49m\u001b[38;5;28;43;01melse\u001b[39;49;00m\u001b[43m \u001b[49m\u001b[43m{\u001b[49m\u001b[43m}\u001b[49m\u001b[43m)\u001b[49m\u001b[43m,\u001b[49m\n\u001b[1;32m   2988\u001b[0m \u001b[43m        \u001b[49m\u001b[38;5;241;43m*\u001b[39;49m\u001b[38;5;241;43m*\u001b[39;49m\u001b[43mkwargs\u001b[49m\u001b[43m,\u001b[49m\n\u001b[1;32m   2989\u001b[0m \u001b[43m    \u001b[49m\u001b[43m)\u001b[49m\n",
      "File \u001b[0;32m~/miniforge3/envs/llm-efficiency-benchmark/lib/python3.11/site-packages/matplotlib/__init__.py:1521\u001b[0m, in \u001b[0;36m_preprocess_data.<locals>.inner\u001b[0;34m(ax, data, *args, **kwargs)\u001b[0m\n\u001b[1;32m   1518\u001b[0m \u001b[38;5;129m@functools\u001b[39m\u001b[38;5;241m.\u001b[39mwraps(func)\n\u001b[1;32m   1519\u001b[0m \u001b[38;5;28;01mdef\u001b[39;00m \u001b[38;5;21minner\u001b[39m(ax, \u001b[38;5;241m*\u001b[39margs, data\u001b[38;5;241m=\u001b[39m\u001b[38;5;28;01mNone\u001b[39;00m, \u001b[38;5;241m*\u001b[39m\u001b[38;5;241m*\u001b[39mkwargs):\n\u001b[1;32m   1520\u001b[0m     \u001b[38;5;28;01mif\u001b[39;00m data \u001b[38;5;129;01mis\u001b[39;00m \u001b[38;5;28;01mNone\u001b[39;00m:\n\u001b[0;32m-> 1521\u001b[0m         \u001b[38;5;28;01mreturn\u001b[39;00m \u001b[43mfunc\u001b[49m\u001b[43m(\u001b[49m\n\u001b[1;32m   1522\u001b[0m \u001b[43m            \u001b[49m\u001b[43max\u001b[49m\u001b[43m,\u001b[49m\n\u001b[1;32m   1523\u001b[0m \u001b[43m            \u001b[49m\u001b[38;5;241;43m*\u001b[39;49m\u001b[38;5;28;43mmap\u001b[39;49m\u001b[43m(\u001b[49m\u001b[43mcbook\u001b[49m\u001b[38;5;241;43m.\u001b[39;49m\u001b[43msanitize_sequence\u001b[49m\u001b[43m,\u001b[49m\u001b[43m \u001b[49m\u001b[43margs\u001b[49m\u001b[43m)\u001b[49m\u001b[43m,\u001b[49m\n\u001b[1;32m   1524\u001b[0m \u001b[43m            \u001b[49m\u001b[38;5;241;43m*\u001b[39;49m\u001b[38;5;241;43m*\u001b[39;49m\u001b[43m{\u001b[49m\u001b[43mk\u001b[49m\u001b[43m:\u001b[49m\u001b[43m \u001b[49m\u001b[43mcbook\u001b[49m\u001b[38;5;241;43m.\u001b[39;49m\u001b[43msanitize_sequence\u001b[49m\u001b[43m(\u001b[49m\u001b[43mv\u001b[49m\u001b[43m)\u001b[49m\u001b[43m \u001b[49m\u001b[38;5;28;43;01mfor\u001b[39;49;00m\u001b[43m \u001b[49m\u001b[43mk\u001b[49m\u001b[43m,\u001b[49m\u001b[43m \u001b[49m\u001b[43mv\u001b[49m\u001b[43m \u001b[49m\u001b[38;5;129;43;01min\u001b[39;49;00m\u001b[43m \u001b[49m\u001b[43mkwargs\u001b[49m\u001b[38;5;241;43m.\u001b[39;49m\u001b[43mitems\u001b[49m\u001b[43m(\u001b[49m\u001b[43m)\u001b[49m\u001b[43m}\u001b[49m\u001b[43m)\u001b[49m\n\u001b[1;32m   1526\u001b[0m     bound \u001b[38;5;241m=\u001b[39m new_sig\u001b[38;5;241m.\u001b[39mbind(ax, \u001b[38;5;241m*\u001b[39margs, \u001b[38;5;241m*\u001b[39m\u001b[38;5;241m*\u001b[39mkwargs)\n\u001b[1;32m   1527\u001b[0m     auto_label \u001b[38;5;241m=\u001b[39m (bound\u001b[38;5;241m.\u001b[39marguments\u001b[38;5;241m.\u001b[39mget(label_namer)\n\u001b[1;32m   1528\u001b[0m                   \u001b[38;5;129;01mor\u001b[39;00m bound\u001b[38;5;241m.\u001b[39mkwargs\u001b[38;5;241m.\u001b[39mget(label_namer))\n",
      "File \u001b[0;32m~/miniforge3/envs/llm-efficiency-benchmark/lib/python3.11/site-packages/matplotlib/axes/_axes.py:2572\u001b[0m, in \u001b[0;36mAxes.bar\u001b[0;34m(self, x, height, width, bottom, align, **kwargs)\u001b[0m\n\u001b[1;32m   2569\u001b[0m     \u001b[38;5;28;01mif\u001b[39;00m yerr \u001b[38;5;129;01mis\u001b[39;00m \u001b[38;5;129;01mnot\u001b[39;00m \u001b[38;5;28;01mNone\u001b[39;00m:\n\u001b[1;32m   2570\u001b[0m         yerr \u001b[38;5;241m=\u001b[39m \u001b[38;5;28mself\u001b[39m\u001b[38;5;241m.\u001b[39m_convert_dx(yerr, y0, y, \u001b[38;5;28mself\u001b[39m\u001b[38;5;241m.\u001b[39mconvert_yunits)\n\u001b[0;32m-> 2572\u001b[0m x, height, width, y, linewidth, hatch \u001b[38;5;241m=\u001b[39m \u001b[43mnp\u001b[49m\u001b[38;5;241;43m.\u001b[39;49m\u001b[43mbroadcast_arrays\u001b[49m\u001b[43m(\u001b[49m\n\u001b[1;32m   2573\u001b[0m \u001b[43m    \u001b[49m\u001b[38;5;66;43;03m# Make args iterable too.\u001b[39;49;00m\n\u001b[1;32m   2574\u001b[0m \u001b[43m    \u001b[49m\u001b[43mnp\u001b[49m\u001b[38;5;241;43m.\u001b[39;49m\u001b[43matleast_1d\u001b[49m\u001b[43m(\u001b[49m\u001b[43mx\u001b[49m\u001b[43m)\u001b[49m\u001b[43m,\u001b[49m\u001b[43m \u001b[49m\u001b[43mheight\u001b[49m\u001b[43m,\u001b[49m\u001b[43m \u001b[49m\u001b[43mwidth\u001b[49m\u001b[43m,\u001b[49m\u001b[43m \u001b[49m\u001b[43my\u001b[49m\u001b[43m,\u001b[49m\u001b[43m \u001b[49m\u001b[43mlinewidth\u001b[49m\u001b[43m,\u001b[49m\u001b[43m \u001b[49m\u001b[43mhatch\u001b[49m\u001b[43m)\u001b[49m\n\u001b[1;32m   2576\u001b[0m \u001b[38;5;66;03m# Now that units have been converted, set the tick locations.\u001b[39;00m\n\u001b[1;32m   2577\u001b[0m \u001b[38;5;28;01mif\u001b[39;00m orientation \u001b[38;5;241m==\u001b[39m \u001b[38;5;124m'\u001b[39m\u001b[38;5;124mvertical\u001b[39m\u001b[38;5;124m'\u001b[39m:\n",
      "File \u001b[0;32m~/miniforge3/envs/llm-efficiency-benchmark/lib/python3.11/site-packages/numpy/lib/_stride_tricks_impl.py:544\u001b[0m, in \u001b[0;36mbroadcast_arrays\u001b[0;34m(subok, *args)\u001b[0m\n\u001b[1;32m    537\u001b[0m \u001b[38;5;66;03m# nditer is not used here to avoid the limit of 32 arrays.\u001b[39;00m\n\u001b[1;32m    538\u001b[0m \u001b[38;5;66;03m# Otherwise, something like the following one-liner would suffice:\u001b[39;00m\n\u001b[1;32m    539\u001b[0m \u001b[38;5;66;03m# return np.nditer(args, flags=['multi_index', 'zerosize_ok'],\u001b[39;00m\n\u001b[1;32m    540\u001b[0m \u001b[38;5;66;03m#                  order='C').itviews\u001b[39;00m\n\u001b[1;32m    542\u001b[0m args \u001b[38;5;241m=\u001b[39m [np\u001b[38;5;241m.\u001b[39marray(_m, copy\u001b[38;5;241m=\u001b[39m\u001b[38;5;28;01mNone\u001b[39;00m, subok\u001b[38;5;241m=\u001b[39msubok) \u001b[38;5;28;01mfor\u001b[39;00m _m \u001b[38;5;129;01min\u001b[39;00m args]\n\u001b[0;32m--> 544\u001b[0m shape \u001b[38;5;241m=\u001b[39m \u001b[43m_broadcast_shape\u001b[49m\u001b[43m(\u001b[49m\u001b[38;5;241;43m*\u001b[39;49m\u001b[43margs\u001b[49m\u001b[43m)\u001b[49m\n\u001b[1;32m    546\u001b[0m result \u001b[38;5;241m=\u001b[39m [array \u001b[38;5;28;01mif\u001b[39;00m array\u001b[38;5;241m.\u001b[39mshape \u001b[38;5;241m==\u001b[39m shape\n\u001b[1;32m    547\u001b[0m           \u001b[38;5;28;01melse\u001b[39;00m _broadcast_to(array, shape, subok\u001b[38;5;241m=\u001b[39msubok, readonly\u001b[38;5;241m=\u001b[39m\u001b[38;5;28;01mFalse\u001b[39;00m)\n\u001b[1;32m    548\u001b[0m                           \u001b[38;5;28;01mfor\u001b[39;00m array \u001b[38;5;129;01min\u001b[39;00m args]\n\u001b[1;32m    549\u001b[0m \u001b[38;5;28;01mreturn\u001b[39;00m \u001b[38;5;28mtuple\u001b[39m(result)\n",
      "File \u001b[0;32m~/miniforge3/envs/llm-efficiency-benchmark/lib/python3.11/site-packages/numpy/lib/_stride_tricks_impl.py:419\u001b[0m, in \u001b[0;36m_broadcast_shape\u001b[0;34m(*args)\u001b[0m\n\u001b[1;32m    414\u001b[0m \u001b[38;5;250m\u001b[39m\u001b[38;5;124;03m\"\"\"Returns the shape of the arrays that would result from broadcasting the\u001b[39;00m\n\u001b[1;32m    415\u001b[0m \u001b[38;5;124;03msupplied arrays against each other.\u001b[39;00m\n\u001b[1;32m    416\u001b[0m \u001b[38;5;124;03m\"\"\"\u001b[39;00m\n\u001b[1;32m    417\u001b[0m \u001b[38;5;66;03m# use the old-iterator because np.nditer does not handle size 0 arrays\u001b[39;00m\n\u001b[1;32m    418\u001b[0m \u001b[38;5;66;03m# consistently\u001b[39;00m\n\u001b[0;32m--> 419\u001b[0m b \u001b[38;5;241m=\u001b[39m \u001b[43mnp\u001b[49m\u001b[38;5;241;43m.\u001b[39;49m\u001b[43mbroadcast\u001b[49m\u001b[43m(\u001b[49m\u001b[38;5;241;43m*\u001b[39;49m\u001b[43margs\u001b[49m\u001b[43m[\u001b[49m\u001b[43m:\u001b[49m\u001b[38;5;241;43m32\u001b[39;49m\u001b[43m]\u001b[49m\u001b[43m)\u001b[49m\n\u001b[1;32m    420\u001b[0m \u001b[38;5;66;03m# unfortunately, it cannot handle 32 or more arguments directly\u001b[39;00m\n\u001b[1;32m    421\u001b[0m \u001b[38;5;28;01mfor\u001b[39;00m pos \u001b[38;5;129;01min\u001b[39;00m \u001b[38;5;28mrange\u001b[39m(\u001b[38;5;241m32\u001b[39m, \u001b[38;5;28mlen\u001b[39m(args), \u001b[38;5;241m31\u001b[39m):\n\u001b[1;32m    422\u001b[0m     \u001b[38;5;66;03m# ironically, np.broadcast does not properly handle np.broadcast\u001b[39;00m\n\u001b[1;32m    423\u001b[0m     \u001b[38;5;66;03m# objects (it treats them as scalars)\u001b[39;00m\n\u001b[1;32m    424\u001b[0m     \u001b[38;5;66;03m# use broadcasting to avoid allocating the full array\u001b[39;00m\n",
      "\u001b[0;31mValueError\u001b[0m: shape mismatch: objects cannot be broadcast to a single shape.  Mismatch is between arg 0 with shape (10,) and arg 1 with shape (9,)."
     ]
    },
    {
     "data": {
      "image/png": "[encoded data removed]",
      "text/plain": [
       "<Figure size 640x480 with 1 Axes>"
      ]
     },
     "metadata": {},
     "output_type": "display_data"
    }
   ],
   "source": [
    "import numpy as np\n",
    "import matplotlib.pyplot as plt\n",
    "import json\n",
    "\n",
    "\n",
    "# Graph data\n",
    "\n",
    "\n",
    "def data_from_json(file: str, type: str) -> [float]:\n",
    "    data = json.load(open(file))\n",
    "\n",
    "    return [data[\"runs\"][0][type], data[\"runs\"][1][type], data[\"runs\"][2][type], data[\"runs\"][3][type], data[\"runs\"][4][type], data[\"runs\"][5][type], data[\"runs\"][6][type], data[\"runs\"][7][type], data[\"runs\"][8][type], data[\"runs\"][9][type]]\n",
    "\n",
    "\n",
    "x = np.arange(10)\n",
    "\n",
    "results1 = data_from_json(\"results_with_encoding-20241217-132248.json\", \"gpu_energy\")\n",
    "#  results2 = data_from_json(\"resultsV3.json\", \"gpu_energy\")\n",
    "#   results3 = data_from_json(\"results_with_encoding-20241203-174821.json\", \"gpu_energy\")\n",
    "#   results4 = data_from_json(\"results_with_encoding-20241203-195144.json\", \"gpu_energy\")\n",
    "#   results5 = data_from_json(\"results_with_encoding-20241203-200703.json\", \"gpu_energy\")\n",
    "\n",
    "ram_energy1 = data_from_json(\"results_with_encoding-20241217-132248.json\", \"ram_energy\")\n",
    "#   ram_energy2 = data_from_json(\"resultsV3.json\", \"ram_energy\")\n",
    "#   ram_energy3 = data_from_json(\"results_with_encoding-20241203-174821.json\", \"ram_energy\")\n",
    "#   ram_energy4 = data_from_json(\"results_with_encoding-20241203-195144.json\", \"ram_energy\")\n",
    "#   ram_energy5 = data_from_json(\"results_with_encoding-20241203-200703.json\", \"ram_energy\")\n",
    "\n",
    "cpu_energy1 = data_from_json(\"results_with_encoding-20241217-132248.json\", \"cpu_energy\")\n",
    "#   cpu_energy2 = data_from_json(\"resultsV3.json\", \"cpu_energy\")\n",
    "#   cpu_energy3 = data_from_json(\"results_with_encoding-20241203-174821.json\", \"cpu_energy\")\n",
    "#   cpu_energy4 = data_from_json(\"results_with_encoding-20241203-195144.json\", \"cpu_energy\")\n",
    "#   cpu_energy5 = data_from_json(\"results_with_encoding-20241203-200703.json\", \"cpu_energy\")\n",
    "\n",
    "duration1 = data_from_json(\"results_with_encoding-20241217-132248.json\", \"duration\")\n",
    "#   duration2 = data_from_json(\"resultsV3.json\", \"duration\")\n",
    "#   duration3 = data_from_json(\"results_with_encoding-20241203-174821.json\", \"duration\")\n",
    "#   duration4 = data_from_json(\"results_with_encoding-20241203-195144.json\", \"duration\")\n",
    "#   duration5 = data_from_json(\"results_with_encoding-20241203-200703.json\", \"duration\")\n",
    "\n",
    "\n",
    "x_values = [1, 5, 10, 20, 40, 100, 200, 500, 1000, 2000]\n",
    "\n",
    "gpu = np.divide(np.mean([results1], axis=0), x_values)\n",
    "ram = np.divide(np.mean([ram_energy1], axis=0), x_values)\n",
    "cpu = np.divide(np.mean([cpu_energy1], axis=0), x_values)\n",
    "time = np.mean([duration1], axis=0)\n",
    "\n",
    "x_labels = [\"1\", \"5\", \"10\", \"20\", \"40\", \"100\", \"200\", \"500\", \"1000\", \"2000\"]\n",
    "plt.subplot(1, 2, 1)\n",
    "plt.bar(x-0.2, gpu, color=\"g\", align=\"center\", width=0.2)\n",
    "plt.bar(x+0.2, ram, color=\"r\", align=\"center\", width=0.2)\n",
    "plt.bar(x, cpu, color=\"b\", align=\"center\", width=0.2)\n",
    "\n",
    "plt.xlabel(\"Passes\")\n",
    "plt.ylabel(\"GPU Energy\")\n",
    "plt.title(\"GPU per energy amount\")\n",
    "plt.xticks(x, x_labels)\n",
    "\n",
    "plt.subplot(1, 2, 2)\n",
    "plt.bar(x, time)\n",
    "plt.xticks(x, x_labels)\n",
    "\n",
    "plt.show()\n"
   ]
  },
  {
   "cell_type": "code",
   "execution_count": null,
   "id": "5393cabe45db5900",
   "metadata": {},
   "outputs": [],
   "source": []
  }
 ],
 "metadata": {
  "kernelspec": {
   "display_name": "llm-efficiency-benchmark",
   "language": "python",
   "name": "python3"
  },
  "language_info": {
   "codemirror_mode": {
    "name": "ipython",
    "version": 3
   },
   "file_extension": ".py",
   "mimetype": "text/x-python",
   "name": "python",
   "nbconvert_exporter": "python",
   "pygments_lexer": "ipython3",
   "version": "3.11.0"
  }
 },
 "nbformat": 4,
 "nbformat_minor": 5
}
