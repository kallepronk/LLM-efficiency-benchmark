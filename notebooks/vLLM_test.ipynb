{
 "cells": [
  {
   "cell_type": "code",
   "execution_count": null,
   "id": "initial_id",
   "metadata": {
    "collapsed": true
   },
   "outputs": [],
   "source": [
    "import sys\n",
    "sys.path.append('../benchmark')\n",
    "from datasets import Dataset\n",
    "from benchmark.runs.run import Run\n",
    "from benchmark.runs.warmup import Warmup\n",
    "from benchmark.runs.vllm import vLLMRun\n",
    "from benchmark.main import Benchmark\n"
   ]
  },
  {
   "metadata": {},
   "cell_type": "code",
   "outputs": [],
   "execution_count": null,
   "source": [
    "\n",
    "# With encoding\n",
    "model: str = \"EleutherAI/pythia-70m\"\n",
    "dataset: Dataset = Dataset(name=\"Rowan/hellaswag\", split=\"train\", column=\"ctx\")\n",
    "\n",
    "# Configure runs\n",
    "warmup: Run = Warmup(model=model, dataset=dataset, passes=100)\n",
    "run1: Run = vLLMRun(model=model, dataset=dataset, passes=1)\n",
    "run5: Run = vLLMRun(model=model, dataset=dataset, passes=5)\n",
    "run10: Run = vLLMRun(model=model, dataset=dataset, passes=10)\n",
    "run20: Run = vLLMRun(model=model, dataset=dataset, passes=20)\n",
    "run40: Run = vLLMRun(model=model, dataset=dataset, passes=40)\n",
    "run100: Run = vLLMRun(model=model, dataset=dataset, passes=100)\n",
    "run200: Run = vLLMRun(model=model, dataset=dataset, passes=200)\n",
    "run500: Run = vLLMRun(model=model, dataset=dataset, passes=500)\n",
    "\n",
    "# Configure classes\n",
    "benchmark = Benchmark(name=\"with_encoding\", runs=[warmup, run1, run5, run10, run20, run40, run100, run200, run500])\n",
    "\n",
    "benchmark.run()\n",
    "\n",
    "print(benchmark.collect_results())\n"
   ],
   "id": "1428e108fe4170d6"
  }
 ],
 "metadata": {
  "kernelspec": {
   "display_name": "Python 3",
   "language": "python",
   "name": "python3"
  },
  "language_info": {
   "codemirror_mode": {
    "name": "ipython",
    "version": 2
   },
   "file_extension": ".py",
   "mimetype": "text/x-python",
   "name": "python",
   "nbconvert_exporter": "python",
   "pygments_lexer": "ipython2",
   "version": "2.7.6"
  }
 },
 "nbformat": 4,
 "nbformat_minor": 5
}
