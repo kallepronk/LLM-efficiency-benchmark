{
 "cells": [
  {
   "cell_type": "code",
   "execution_count": 7,
   "id": "initial_id",
   "metadata": {
    "collapsed": true
   },
   "outputs": [],
   "source": [
    "import sys, os\n",
    "module_path = os.path.abspath(os.getcwd()+'/..')\n",
    "\n",
    "sys.path.append(module_path)\n",
    "\n",
    "from benchmark.runs.run import Run\n",
    "from benchmark.runs.warmup import Warmup\n",
    "from benchmark.runs.vllm import vLLMRun\n",
    "from benchmark.main import Benchmark\n",
    "from benchmark.dataset import Dataset\n"
   ]
  },
  {
   "cell_type": "code",
   "execution_count": null,
   "id": "1428e108fe4170d6",
   "metadata": {},
   "outputs": [
    {
     "data": {
      "application/vnd.jupyter.widget-view+json": {
       "model_id": "f22eec1ed6324d388a3af672d2bce5aa",
       "version_major": 2,
       "version_minor": 0
      },
      "text/plain": [
       "Total progress:   0%|          | 0/13 [00:00<?, ?it/s]"
      ]
     },
     "metadata": {},
     "output_type": "display_data"
    },
    {
     "name": "stderr",
     "output_type": "stream",
     "text": [
      "[codecarbon WARNING @ 12:18:54] Multiple instances of codecarbon are allowed to run at the same time.\n",
      "[codecarbon WARNING @ 12:18:54] No CPU tracking mode found. Falling back on CPU constant mode. \n",
      " Linux OS detected: Please ensure RAPL files exist at \\sys\\class\\powercap\\intel-rapl to measure CPU\n",
      "\n",
      "[codecarbon WARNING @ 12:18:55] We saw that you have a 13th Gen Intel(R) Core(TM) i9-13900K but we don't know it. Please contact us.\n",
      "100%|██████████| 500/500 [00:13<00:00, 36.82it/s]\n",
      "[codecarbon WARNING @ 12:19:08] Multiple instances of codecarbon are allowed to run at the same time.\n",
      "[codecarbon WARNING @ 12:19:08] No CPU tracking mode found. Falling back on CPU constant mode. \n",
      " Linux OS detected: Please ensure RAPL files exist at \\sys\\class\\powercap\\intel-rapl to measure CPU\n",
      "\n",
      "[codecarbon WARNING @ 12:19:10] We saw that you have a 13th Gen Intel(R) Core(TM) i9-13900K but we don't know it. Please contact us.\n",
      "100%|██████████| 1/1 [00:00<00:00,  1.29it/s]\n",
      "[codecarbon WARNING @ 12:19:10] Multiple instances of codecarbon are allowed to run at the same time.\n",
      "[codecarbon WARNING @ 12:19:10] No CPU tracking mode found. Falling back on CPU constant mode. \n",
      " Linux OS detected: Please ensure RAPL files exist at \\sys\\class\\powercap\\intel-rapl to measure CPU\n",
      "\n",
      "[codecarbon WARNING @ 12:19:11] We saw that you have a 13th Gen Intel(R) Core(TM) i9-13900K but we don't know it. Please contact us.\n",
      "100%|██████████| 5/5 [00:00<00:00,  8.19it/s]\n",
      "[codecarbon WARNING @ 12:19:12] Multiple instances of codecarbon are allowed to run at the same time.\n",
      "[codecarbon WARNING @ 12:19:12] No CPU tracking mode found. Falling back on CPU constant mode. \n",
      " Linux OS detected: Please ensure RAPL files exist at \\sys\\class\\powercap\\intel-rapl to measure CPU\n",
      "\n",
      "[codecarbon WARNING @ 12:19:13] We saw that you have a 13th Gen Intel(R) Core(TM) i9-13900K but we don't know it. Please contact us.\n",
      "100%|██████████| 10/10 [00:00<00:00, 11.23it/s]\n",
      "[codecarbon WARNING @ 12:19:14] Multiple instances of codecarbon are allowed to run at the same time.\n",
      "[codecarbon WARNING @ 12:19:14] No CPU tracking mode found. Falling back on CPU constant mode. \n",
      " Linux OS detected: Please ensure RAPL files exist at \\sys\\class\\powercap\\intel-rapl to measure CPU\n",
      "\n",
      "[codecarbon WARNING @ 12:19:15] We saw that you have a 13th Gen Intel(R) Core(TM) i9-13900K but we don't know it. Please contact us.\n",
      "100%|██████████| 20/20 [00:01<00:00, 16.75it/s]\n",
      "[codecarbon WARNING @ 12:19:17] Multiple instances of codecarbon are allowed to run at the same time.\n",
      "[codecarbon WARNING @ 12:19:17] No CPU tracking mode found. Falling back on CPU constant mode. \n",
      " Linux OS detected: Please ensure RAPL files exist at \\sys\\class\\powercap\\intel-rapl to measure CPU\n",
      "\n",
      "[codecarbon WARNING @ 12:19:18] We saw that you have a 13th Gen Intel(R) Core(TM) i9-13900K but we don't know it. Please contact us.\n",
      "100%|██████████| 40/40 [00:02<00:00, 19.02it/s]\n",
      "[codecarbon WARNING @ 12:19:20] Multiple instances of codecarbon are allowed to run at the same time.\n",
      "[codecarbon WARNING @ 12:19:20] No CPU tracking mode found. Falling back on CPU constant mode. \n",
      " Linux OS detected: Please ensure RAPL files exist at \\sys\\class\\powercap\\intel-rapl to measure CPU\n",
      "\n",
      "[codecarbon WARNING @ 12:19:21] We saw that you have a 13th Gen Intel(R) Core(TM) i9-13900K but we don't know it. Please contact us.\n",
      "100%|██████████| 100/100 [00:03<00:00, 30.18it/s]\n",
      "[codecarbon WARNING @ 12:19:24] Multiple instances of codecarbon are allowed to run at the same time.\n",
      "[codecarbon WARNING @ 12:19:24] No CPU tracking mode found. Falling back on CPU constant mode. \n",
      " Linux OS detected: Please ensure RAPL files exist at \\sys\\class\\powercap\\intel-rapl to measure CPU\n",
      "\n",
      "[codecarbon WARNING @ 12:19:25] We saw that you have a 13th Gen Intel(R) Core(TM) i9-13900K but we don't know it. Please contact us.\n",
      "100%|██████████| 200/200 [00:03<00:00, 66.19it/s]\n",
      "[codecarbon WARNING @ 12:19:29] Multiple instances of codecarbon are allowed to run at the same time.\n",
      "[codecarbon WARNING @ 12:19:29] No CPU tracking mode found. Falling back on CPU constant mode. \n",
      " Linux OS detected: Please ensure RAPL files exist at \\sys\\class\\powercap\\intel-rapl to measure CPU\n",
      "\n",
      "[codecarbon WARNING @ 12:19:30] We saw that you have a 13th Gen Intel(R) Core(TM) i9-13900K but we don't know it. Please contact us.\n",
      "100%|██████████| 500/500 [00:15<00:00, 31.45it/s]\n",
      "[codecarbon WARNING @ 12:19:46] Multiple instances of codecarbon are allowed to run at the same time.\n",
      "[codecarbon WARNING @ 12:19:46] No CPU tracking mode found. Falling back on CPU constant mode. \n",
      " Linux OS detected: Please ensure RAPL files exist at \\sys\\class\\powercap\\intel-rapl to measure CPU\n",
      "\n",
      "[codecarbon WARNING @ 12:19:47] We saw that you have a 13th Gen Intel(R) Core(TM) i9-13900K but we don't know it. Please contact us.\n",
      "100%|██████████| 1000/1000 [00:30<00:00, 33.18it/s]\n",
      "[codecarbon WARNING @ 12:20:17] Multiple instances of codecarbon are allowed to run at the same time.\n",
      "[codecarbon WARNING @ 12:20:17] No CPU tracking mode found. Falling back on CPU constant mode. \n",
      " Linux OS detected: Please ensure RAPL files exist at \\sys\\class\\powercap\\intel-rapl to measure CPU\n",
      "\n",
      "[codecarbon WARNING @ 12:20:18] We saw that you have a 13th Gen Intel(R) Core(TM) i9-13900K but we don't know it. Please contact us.\n",
      "100%|██████████| 2000/2000 [01:00<00:00, 33.25it/s]\n",
      "[codecarbon WARNING @ 12:21:18] Multiple instances of codecarbon are allowed to run at the same time.\n",
      "[codecarbon WARNING @ 12:21:18] No CPU tracking mode found. Falling back on CPU constant mode. \n",
      " Linux OS detected: Please ensure RAPL files exist at \\sys\\class\\powercap\\intel-rapl to measure CPU\n",
      "\n",
      "[codecarbon WARNING @ 12:21:19] We saw that you have a 13th Gen Intel(R) Core(TM) i9-13900K but we don't know it. Please contact us.\n",
      "100%|██████████| 5000/5000 [02:31<00:00, 32.98it/s]\n",
      "[codecarbon WARNING @ 12:23:51] Multiple instances of codecarbon are allowed to run at the same time.\n",
      "[codecarbon WARNING @ 12:23:51] No CPU tracking mode found. Falling back on CPU constant mode. \n",
      " Linux OS detected: Please ensure RAPL files exist at \\sys\\class\\powercap\\intel-rapl to measure CPU\n",
      "\n",
      "[codecarbon WARNING @ 12:23:52] We saw that you have a 13th Gen Intel(R) Core(TM) i9-13900K but we don't know it. Please contact us.\n",
      "100%|██████████| 10000/10000 [05:21<00:00, 31.09it/s]"
     ]
    },
    {
     "name": "stdout",
     "output_type": "stream",
     "text": [
      "{'benchmark_name': 'vLLM-20241218-121854', 'timestamp': '20241218-122914', 'cpu_count': 32, 'cpu_model': '13th Gen Intel(R) Core(TM) i9-13900K', 'gpu_count': 2, 'gpu_model': '2 x NVIDIA GeForce RTX 3090', 'os': 'Linux-5.15.167.4-microsoft-standard-WSL2-x86_64-with-glibc2.39', 'country_name': 'Netherlands', 'country_iso_code': 'NLD', 'region': None, 'python_version': '3.11.0', 'codecarbon_version': '2.8.1', 'longtitude': None, 'latitude': None, 'ram_total_size': 62.69314956665039, 'cpu_power': 42.5, 'gpu_power': 98.14953991220978, 'ram_power': 23.509931087493896, 'total_duration': 629.9640078770062, 'total_cpu_energy': 0.007437067140026352, 'total_gpu_energy': 0.023609571109864003, 'total_ram_energy': 0.00411284540696945, 'runs': [{'name': '', 'passes': 1, 'model': 'EleutherAI/pythia-70m', 'dataset': 'Rowan/hellaswag', 'timestamp': '2024-12-18T12:19:10', 'duration': 0.786232476002624, 'cpu_energy': 9.281753700699686e-06, 'gpu_energy': 2.1373628210002993e-05, 'ram_energy': 5.115594567403909e-06}, {'name': '', 'passes': 5, 'model': 'EleutherAI/pythia-70m', 'dataset': 'Rowan/hellaswag', 'timestamp': '2024-12-18T12:19:12', 'duration': 0.6170374590001302, 'cpu_energy': 7.284283816688407e-06, 'gpu_energy': 3.0997802575982725e-05, 'ram_energy': 4.012168640642891e-06}, {'name': '', 'passes': 10, 'model': 'EleutherAI/pythia-70m', 'dataset': 'Rowan/hellaswag', 'timestamp': '2024-12-18T12:19:14', 'duration': 0.8990158970009361, 'cpu_energy': 1.0613200571558284e-05, 'gpu_energy': 4.80642051179786e-05, 'ram_energy': 5.840089593020037e-06}, {'name': '', 'passes': 20, 'model': 'EleutherAI/pythia-70m', 'dataset': 'Rowan/hellaswag', 'timestamp': '2024-12-18T12:19:17', 'duration': 1.2098102269992523, 'cpu_energy': 1.4282323144422865e-05, 'gpu_energy': 4.274253419397911e-05, 'ram_energy': 7.880012224076176e-06}, {'name': '', 'passes': 40, 'model': 'EleutherAI/pythia-70m', 'dataset': 'Rowan/hellaswag', 'timestamp': '2024-12-18T12:19:20', 'duration': 2.111847709998983, 'cpu_energy': 2.4931371734002523e-05, 'gpu_energy': 6.753449847202164e-05, 'ram_energy': 1.3758057033507228e-05}, {'name': '', 'passes': 100, 'model': 'EleutherAI/pythia-70m', 'dataset': 'Rowan/hellaswag', 'timestamp': '2024-12-18T12:19:24', 'duration': 3.3243109780014493, 'cpu_energy': 3.924516021390648e-05, 'gpu_energy': 0.000127367879672019, 'ram_energy': 2.168860271814838e-05}, {'name': '', 'passes': 200, 'model': 'EleutherAI/pythia-70m', 'dataset': 'Rowan/hellaswag', 'timestamp': '2024-12-18T12:19:28', 'duration': 4.87180774800072, 'cpu_energy': 5.751423600902652e-05, 'gpu_energy': 0.0002446799179660064, 'ram_energy': 3.179333374908217e-05}, {'name': '', 'passes': 500, 'model': 'EleutherAI/pythia-70m', 'dataset': 'Rowan/hellaswag', 'timestamp': '2024-12-18T12:19:46', 'duration': 15.906757663000462, 'cpu_energy': 0.0001877878308111248, 'gpu_energy': 0.0006113913224460171, 'ram_energy': 0.00010383972649163776}, {'name': '', 'passes': 1000, 'model': 'EleutherAI/pythia-70m', 'dataset': 'Rowan/hellaswag', 'timestamp': '2024-12-18T12:20:17', 'duration': 31.956990622999, 'cpu_energy': 0.00037726952634577627, 'gpu_energy': 0.0011981229029419949, 'ram_energy': 0.00020864767524241868}, {'name': '', 'passes': 2000, 'model': 'EleutherAI/pythia-70m', 'dataset': 'Rowan/hellaswag', 'timestamp': '2024-12-18T12:21:18', 'duration': 63.874597576999804, 'cpu_energy': 0.0007540742491513937, 'gpu_energy': 0.002487796156901978, 'ram_energy': 0.0004170308952438629}, {'name': '', 'passes': 5000, 'model': 'EleutherAI/pythia-70m', 'dataset': 'Rowan/hellaswag', 'timestamp': '2024-12-18T12:23:51', 'duration': 162.63441780200083, 'cpu_energy': 0.0019199879556339183, 'gpu_energy': 0.006219183308676018, 'ram_energy': 0.0010618105359408855}, {'name': '', 'passes': 10000, 'model': 'EleutherAI/pythia-70m', 'dataset': 'Rowan/hellaswag', 'timestamp': '2024-12-18T12:29:14', 'duration': 341.77118171700204, 'cpu_energy': 0.004034795248893834, 'gpu_energy': 0.012510316952690004, 'ram_energy': 0.002231428715524764}]}\n"
     ]
    },
    {
     "name": "stderr",
     "output_type": "stream",
     "text": [
      "\n"
     ]
    }
   ],
   "source": [
    "\n",
    "# With encoding\n",
    "\n",
    "async def load_test(model: str, dataset: Dataset, name: str)\n",
    "\n",
    "    api: str = \"http://localhost:8000/v1/completions\"\n",
    "\n",
    "    # Configure runs\n",
    "    warmup: Run = vLLMRun(model=model, dataset=dataset, passes=500, api_url=api)\n",
    "\n",
    "    run1: Run = vLLMRun(model=model, dataset=dataset, passes=1, api_url=api)\n",
    "    run5: Run = vLLMRun(model=model, dataset=dataset, passes=5, api_url=api)\n",
    "    run10: Run = vLLMRun(model=model, dataset=dataset, passes=10, api_url=api)\n",
    "    run20: Run = vLLMRun(model=model, dataset=dataset, passes=20, api_url=api)\n",
    "    run40: Run = vLLMRun(model=model, dataset=dataset, passes=40, api_url=api)\n",
    "    run100: Run = vLLMRun(model=model, dataset=dataset, passes=100, api_url=api)\n",
    "    run200: Run = vLLMRun(model=model, dataset=dataset, passes=200, api_url=api)\n",
    "    run500: Run = vLLMRun(model=model, dataset=dataset, passes=500, api_url=api)\n",
    "    run1000: Run = vLLMRun(model=model, dataset=dataset, passes=1000, api_url=api)\n",
    "    run2000: Run = vLLMRun(model=model, dataset=dataset, passes=2000, api_url=api)\n",
    "    run5000: Run = vLLMRun(model=model, dataset=dataset, passes=5000, api_url=api)\n",
    "    run10000: Run = vLLMRun(model=model, dataset=dataset, passes=10000, api_url=api)\n",
    "\n",
    "\n",
    "\n",
    "    # Configure classes\n",
    "    benchmark = Benchmark(name=\"vLLM\", runs=[warmup, run1, run5, run10, run20, run40, run100, run200, run500, run1000, run2000, run5000, run10000])\n",
    "\n",
    "    await benchmark.run_async()\n",
    "\n",
    "    print(benchmark.collect_results())\n"
   ]
  },
  {
   "cell_type": "code",
   "execution_count": null,
   "id": "31483749",
   "metadata": {},
   "outputs": [],
   "source": [
    "dataset: Dataset = Dataset(name=\"Rowan/hellaswag\", split=\"train\", column=\"ctx\")\n",
    "model: str = \"EleutherAI/pythia-70m\"\n",
    "\n"
   ]
  },
  {
   "cell_type": "code",
   "execution_count": 10,
   "id": "60cbd6fc",
   "metadata": {},
   "outputs": [
    {
     "data": {
      "image/png": "[encoded data removed]",
      "text/plain": [
       "<Figure size 640x480 with 2 Axes>"
      ]
     },
     "metadata": {},
     "output_type": "display_data"
    }
   ],
   "source": [
    "import numpy as np\n",
    "import matplotlib.pyplot as plt\n",
    "import json\n",
    "\n",
    "\n",
    "# Graph data\n",
    "\n",
    "\n",
    "def data_from_json(file: str, type: str) -> [float]:\n",
    "    data = json.load(open(file))\n",
    "\n",
    "    return [data[\"runs\"][0][type], data[\"runs\"][1][type], data[\"runs\"][2][type], data[\"runs\"][3][type], data[\"runs\"][4][type], data[\"runs\"][5][type], data[\"runs\"][6][type], data[\"runs\"][7][type], data[\"runs\"][8][type], data[\"runs\"][9][type], data[\"runs\"][10][type], data[\"runs\"][11][type]]\n",
    "\n",
    "\n",
    "x = np.arange(12)\n",
    "\n",
    "results1 = data_from_json(\"results_vLLM-20241218-121854.json\", \"gpu_energy\")\n",
    "#  results2 = data_from_json(\"resultsV3.json\", \"gpu_energy\")\n",
    "#   results3 = data_from_json(\"results_with_encoding-20241203-174821.json\", \"gpu_energy\")\n",
    "#   results4 = data_from_json(\"results_with_encoding-20241203-195144.json\", \"gpu_energy\")\n",
    "#   results5 = data_from_json(\"results_with_encoding-20241203-200703.json\", \"gpu_energy\")\n",
    "\n",
    "ram_energy1 = data_from_json(\"results_vLLM-20241218-121854.json\", \"ram_energy\")\n",
    "#   ram_energy2 = data_from_json(\"resultsV3.json\", \"ram_energy\")\n",
    "#   ram_energy3 = data_from_json(\"results_with_encoding-20241203-174821.json\", \"ram_energy\")\n",
    "#   ram_energy4 = data_from_json(\"results_with_encoding-20241203-195144.json\", \"ram_energy\")\n",
    "#   ram_energy5 = data_from_json(\"results_with_encoding-20241203-200703.json\", \"ram_energy\")\n",
    "\n",
    "cpu_energy1 = data_from_json(\"results_vLLM-20241218-121854.json\", \"cpu_energy\")\n",
    "#   cpu_energy2 = data_from_json(\"resultsV3.json\", \"cpu_energy\")\n",
    "#   cpu_energy3 = data_from_json(\"results_with_encoding-20241203-174821.json\", \"cpu_energy\")\n",
    "#   cpu_energy4 = data_from_json(\"results_with_encoding-20241203-195144.json\", \"cpu_energy\")\n",
    "#   cpu_energy5 = data_from_json(\"results_with_encoding-20241203-200703.json\", \"cpu_energy\")\n",
    "\n",
    "duration1 = data_from_json(\"results_vLLM-20241218-121854.json\", \"duration\")\n",
    "#   duration2 = data_from_json(\"resultsV3.json\", \"duration\")\n",
    "#   duration3 = data_from_json(\"results_with_encoding-20241203-174821.json\", \"duration\")\n",
    "#   duration4 = data_from_json(\"results_with_encoding-20241203-195144.json\", \"duration\")\n",
    "#   duration5 = data_from_json(\"results_with_encoding-20241203-200703.json\", \"duration\")\n",
    "\n",
    "\n",
    "x_values = [1, 5, 10, 20, 40, 100, 200, 500, 1000, 2000, 5000, 10000]\n",
    "\n",
    "gpu = np.divide(np.mean([results1], axis=0), x_values)\n",
    "ram = np.divide(np.mean([ram_energy1], axis=0), x_values)\n",
    "cpu = np.divide(np.mean([cpu_energy1], axis=0), x_values)\n",
    "time = np.mean([duration1], axis=0)\n",
    "\n",
    "x_labels = [\"1\", \"5\", \"10\", \"20\", \"40\", \"100\", \"200\", \"500\", \"1000\", \"2000\", \"5000\", \"10000\"]\n",
    "plt.subplot(1, 2, 1)\n",
    "plt.bar(x-0.2, gpu, color=\"g\", align=\"center\", width=0.2)\n",
    "plt.bar(x+0.2, ram, color=\"r\", align=\"center\", width=0.2)\n",
    "plt.bar(x, cpu, color=\"b\", align=\"center\", width=0.2)\n",
    "\n",
    "plt.xlabel(\"Passes\")\n",
    "plt.ylabel(\"GPU Energy\")\n",
    "plt.title(\"GPU per energy amount\")\n",
    "plt.xticks(x, x_labels)\n",
    "\n",
    "plt.subplot(1, 2, 2)\n",
    "plt.bar(x, time)\n",
    "plt.xticks(x, x_labels)\n",
    "\n",
    "plt.show()\n"
   ]
  }
 ],
 "metadata": {
  "kernelspec": {
   "display_name": "llm-efficiency-benchmark",
   "language": "python",
   "name": "python3"
  },
  "language_info": {
   "codemirror_mode": {
    "name": "ipython",
    "version": 3
   },
   "file_extension": ".py",
   "mimetype": "text/x-python",
   "name": "python",
   "nbconvert_exporter": "python",
   "pygments_lexer": "ipython3",
   "version": "3.11.0"
  }
 },
 "nbformat": 4,
 "nbformat_minor": 5
}
